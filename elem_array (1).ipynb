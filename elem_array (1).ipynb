{
  "nbformat": 4,
  "nbformat_minor": 0,
  "metadata": {
    "colab": {
      "provenance": [],
      "toc_visible": true
    },
    "kernelspec": {
      "name": "python3",
      "display_name": "Python 3"
    },
    "language_info": {
      "name": "python"
    }
  },
  "cells": [
    {
      "cell_type": "code",
      "execution_count": null,
      "metadata": {
        "colab": {
          "base_uri": "https://localhost:8080/"
        },
        "id": "jMgqkkp2whSM",
        "outputId": "878deff6-2675-4102-f848-3653380071a5"
      },
      "outputs": [
        {
          "output_type": "stream",
          "name": "stdout",
          "text": [
            "array('f', [1.0, 2.0, 3.0, 4.0, 5.0, 6.0, 7.0, 8.0, 9.0])\n",
            "3.0\n",
            "array('f', [7.0, 8.0, 9.0, 4.0, 5.0, 6.0, 1.0, 2.0, 3.0])\n",
            "array('f', [7.0, 8.0, 9.0, 8.0, 10.0, 12.0, 1.0, 2.0, 3.0])\n",
            "array('f', [7.0, 8.0, 9.0, 8.0, 10.0, 12.0, -6.0, -6.0, -6.0])\n"
          ]
        }
      ],
      "source": [
        "from array import array\n",
        "\n",
        "#1.REPRESENTAR UNA MATRIZ 3X3 COMO UN ARRAY DE 9 ELEMENTOS\n",
        "f=array('f',[1,2,3,4,5,6,7,8,9])\n",
        "print(f)\n",
        "\n",
        "#2.HACER LA FUNCION PARA OBTENER EL ELEMENTO i,j\n",
        "def elem(A, i, j):\n",
        "    if i < 0 or i >= 3 or j < 0 or j >= 3:\n",
        "        raise ValueError(\"fuera de rango\")\n",
        "    return A[i * 3 + j]\n",
        "\n",
        "print(elem(f, 0, 2))\n",
        "\n",
        "#3.HACER LSA OPERACIONES ELEMENTALES ENTRE MATRICES\n",
        "\n",
        "def intercambiar_renglones(A, i, j):\n",
        "    # Intercambia los valores de los elementos de los renglones i y j\n",
        "    for k in range(3):\n",
        "        A[i * 3 + k], A[j * 3 + k] = A[j * 3 + k], A[i * 3 + k]\n",
        "\n",
        "def multiplicar_renglon_por_escalar(A, i, escalar):\n",
        "    # Multiplica todos los elementos del renglón i por un escalar\n",
        "    for k in range(3):\n",
        "        A[i * 3 + k] *= escalar\n",
        "\n",
        "def sumar_multiplo_de_renglon(A, i, j, multiplicador):\n",
        "    # Suma al renglón j un múltiplo del renglón i\n",
        "    for k in range(3):\n",
        "        A[j * 3 + k] += multiplicador * A[i * 3 + k]\n",
        "\n",
        "intercambiar_renglones(f, 0, 2)\n",
        "print(f)\n",
        "#Intercambiamos\n",
        "\n",
        "multiplicar_renglon_por_escalar(f, 1, 2)\n",
        "print(f)\n",
        "\n",
        "sumar_multiplo_de_renglon(f, 0, 2, -1)\n",
        "print(f)\n"
      ]
    },
    {
      "cell_type": "code",
      "source": [
        "import sympy as sp # Se llama la librería `sympy` con el alias `sp`.\n",
        "\n",
        "# se define en la matriz `A`\n",
        "\n",
        "B = sp.Matrix([\n",
        "    [1,2,3],\n",
        "    [4,5,6],\n",
        "    [7,8,9]\n",
        "])\n",
        "#Ajustamos la referencia de la matriz\n",
        "\n",
        "\n",
        "B.row_swap(0,2)\n",
        "print(B)\n",
        "B[1,:]=2*B[1,:]\n",
        "print(B)\n",
        "B[1:]=B[0,:]*-1+B[2,:]\n",
        "print(B)\n",
        "#\n"
      ],
      "metadata": {
        "colab": {
          "base_uri": "https://localhost:8080/",
          "height": 747
        },
        "id": "G_xZ3FP35esF",
        "outputId": "b0867ef6-7dcb-48cd-dd81-bf85253feb94"
      },
      "execution_count": null,
      "outputs": [
        {
          "output_type": "stream",
          "name": "stdout",
          "text": [
            "Matrix([[7, 8, 9], [4, 5, 6], [1, 2, 3]])\n",
            "Matrix([[7, 8, 9], [8, 10, 12], [1, 2, 3]])\n"
          ]
        },
        {
          "output_type": "error",
          "ename": "ShapeError",
          "evalue": "\nThe Matrix `value` doesn't have the same dimensions as the in sub-\nMatrix given by `key`.",
          "traceback": [
            "\u001b[0;31m---------------------------------------------------------------------------\u001b[0m",
            "\u001b[0;31mShapeError\u001b[0m                                Traceback (most recent call last)",
            "\u001b[0;32m<ipython-input-8-594e183bfe22>\u001b[0m in \u001b[0;36m<cell line: 17>\u001b[0;34m()\u001b[0m\n\u001b[1;32m     15\u001b[0m \u001b[0mB\u001b[0m\u001b[0;34m[\u001b[0m\u001b[0;36m1\u001b[0m\u001b[0;34m,\u001b[0m\u001b[0;34m:\u001b[0m\u001b[0;34m]\u001b[0m\u001b[0;34m=\u001b[0m\u001b[0;36m2\u001b[0m\u001b[0;34m*\u001b[0m\u001b[0mB\u001b[0m\u001b[0;34m[\u001b[0m\u001b[0;36m1\u001b[0m\u001b[0;34m,\u001b[0m\u001b[0;34m:\u001b[0m\u001b[0;34m]\u001b[0m\u001b[0;34m\u001b[0m\u001b[0;34m\u001b[0m\u001b[0m\n\u001b[1;32m     16\u001b[0m \u001b[0mprint\u001b[0m\u001b[0;34m(\u001b[0m\u001b[0mB\u001b[0m\u001b[0;34m)\u001b[0m\u001b[0;34m\u001b[0m\u001b[0;34m\u001b[0m\u001b[0m\n\u001b[0;32m---> 17\u001b[0;31m \u001b[0mB\u001b[0m\u001b[0;34m[\u001b[0m\u001b[0;36m1\u001b[0m\u001b[0;34m:\u001b[0m\u001b[0;34m]\u001b[0m\u001b[0;34m=\u001b[0m\u001b[0mB\u001b[0m\u001b[0;34m[\u001b[0m\u001b[0;36m0\u001b[0m\u001b[0;34m,\u001b[0m\u001b[0;34m:\u001b[0m\u001b[0;34m]\u001b[0m\u001b[0;34m*\u001b[0m\u001b[0;34m-\u001b[0m\u001b[0;36m1\u001b[0m\u001b[0;34m+\u001b[0m\u001b[0mB\u001b[0m\u001b[0;34m[\u001b[0m\u001b[0;36m2\u001b[0m\u001b[0;34m,\u001b[0m\u001b[0;34m:\u001b[0m\u001b[0;34m]\u001b[0m\u001b[0;34m\u001b[0m\u001b[0;34m\u001b[0m\u001b[0m\n\u001b[0m\u001b[1;32m     18\u001b[0m \u001b[0mprint\u001b[0m\u001b[0;34m(\u001b[0m\u001b[0mB\u001b[0m\u001b[0;34m)\u001b[0m\u001b[0;34m\u001b[0m\u001b[0;34m\u001b[0m\u001b[0m\n\u001b[1;32m     19\u001b[0m \u001b[0;31m#\u001b[0m\u001b[0;34m\u001b[0m\u001b[0;34m\u001b[0m\u001b[0m\n",
            "\u001b[0;32m/usr/local/lib/python3.10/dist-packages/sympy/matrices/repmatrix.py\u001b[0m in \u001b[0;36m__setitem__\u001b[0;34m(self, key, value)\u001b[0m\n\u001b[1;32m    398\u001b[0m         [2, 2, 4, 2]])\n\u001b[1;32m    399\u001b[0m         \"\"\"\n\u001b[0;32m--> 400\u001b[0;31m         \u001b[0mrv\u001b[0m \u001b[0;34m=\u001b[0m \u001b[0mself\u001b[0m\u001b[0;34m.\u001b[0m\u001b[0m_setitem\u001b[0m\u001b[0;34m(\u001b[0m\u001b[0mkey\u001b[0m\u001b[0;34m,\u001b[0m \u001b[0mvalue\u001b[0m\u001b[0;34m)\u001b[0m\u001b[0;34m\u001b[0m\u001b[0;34m\u001b[0m\u001b[0m\n\u001b[0m\u001b[1;32m    401\u001b[0m         \u001b[0;32mif\u001b[0m \u001b[0mrv\u001b[0m \u001b[0;32mis\u001b[0m \u001b[0;32mnot\u001b[0m \u001b[0;32mNone\u001b[0m\u001b[0;34m:\u001b[0m\u001b[0;34m\u001b[0m\u001b[0;34m\u001b[0m\u001b[0m\n\u001b[1;32m    402\u001b[0m             \u001b[0mi\u001b[0m\u001b[0;34m,\u001b[0m \u001b[0mj\u001b[0m\u001b[0;34m,\u001b[0m \u001b[0mvalue\u001b[0m \u001b[0;34m=\u001b[0m \u001b[0mrv\u001b[0m\u001b[0;34m\u001b[0m\u001b[0;34m\u001b[0m\u001b[0m\n",
            "\u001b[0;32m/usr/local/lib/python3.10/dist-packages/sympy/matrices/matrices.py\u001b[0m in \u001b[0;36m_setitem\u001b[0;34m(self, key, value)\u001b[0m\n\u001b[1;32m   1177\u001b[0m                     key = (slice(i, i + value.rows),\n\u001b[1;32m   1178\u001b[0m                            slice(j, j + value.cols))\n\u001b[0;32m-> 1179\u001b[0;31m                 \u001b[0mself\u001b[0m\u001b[0;34m.\u001b[0m\u001b[0mcopyin_matrix\u001b[0m\u001b[0;34m(\u001b[0m\u001b[0mkey\u001b[0m\u001b[0;34m,\u001b[0m \u001b[0mvalue\u001b[0m\u001b[0;34m)\u001b[0m\u001b[0;34m\u001b[0m\u001b[0;34m\u001b[0m\u001b[0m\n\u001b[0m\u001b[1;32m   1180\u001b[0m             \u001b[0;32melse\u001b[0m\u001b[0;34m:\u001b[0m\u001b[0;34m\u001b[0m\u001b[0;34m\u001b[0m\u001b[0m\n\u001b[1;32m   1181\u001b[0m                 \u001b[0;32mreturn\u001b[0m \u001b[0mi\u001b[0m\u001b[0;34m,\u001b[0m \u001b[0mj\u001b[0m\u001b[0;34m,\u001b[0m \u001b[0mself\u001b[0m\u001b[0;34m.\u001b[0m\u001b[0m_sympify\u001b[0m\u001b[0;34m(\u001b[0m\u001b[0mvalue\u001b[0m\u001b[0;34m)\u001b[0m\u001b[0;34m\u001b[0m\u001b[0;34m\u001b[0m\u001b[0m\n",
            "\u001b[0;32m/usr/local/lib/python3.10/dist-packages/sympy/matrices/repmatrix.py\u001b[0m in \u001b[0;36mcopyin_matrix\u001b[0;34m(self, key, value)\u001b[0m\n\u001b[1;32m    624\u001b[0m         \u001b[0mdr\u001b[0m\u001b[0;34m,\u001b[0m \u001b[0mdc\u001b[0m \u001b[0;34m=\u001b[0m \u001b[0mrhi\u001b[0m \u001b[0;34m-\u001b[0m \u001b[0mrlo\u001b[0m\u001b[0;34m,\u001b[0m \u001b[0mchi\u001b[0m \u001b[0;34m-\u001b[0m \u001b[0mclo\u001b[0m\u001b[0;34m\u001b[0m\u001b[0;34m\u001b[0m\u001b[0m\n\u001b[1;32m    625\u001b[0m         \u001b[0;32mif\u001b[0m \u001b[0mshape\u001b[0m \u001b[0;34m!=\u001b[0m \u001b[0;34m(\u001b[0m\u001b[0mdr\u001b[0m\u001b[0;34m,\u001b[0m \u001b[0mdc\u001b[0m\u001b[0;34m)\u001b[0m\u001b[0;34m:\u001b[0m\u001b[0;34m\u001b[0m\u001b[0;34m\u001b[0m\u001b[0m\n\u001b[0;32m--> 626\u001b[0;31m             raise ShapeError(filldedent(\"The Matrix `value` doesn't have the \"\n\u001b[0m\u001b[1;32m    627\u001b[0m                                         \u001b[0;34m\"same dimensions \"\u001b[0m\u001b[0;34m\u001b[0m\u001b[0;34m\u001b[0m\u001b[0m\n\u001b[1;32m    628\u001b[0m                                         \"as the in sub-Matrix given by `key`.\"))\n",
            "\u001b[0;31mShapeError\u001b[0m: \nThe Matrix `value` doesn't have the same dimensions as the in sub-\nMatrix given by `key`."
          ]
        }
      ]
    },
    {
      "cell_type": "code",
      "source": [],
      "metadata": {
        "id": "QdVPYZWcRbL5"
      },
      "execution_count": null,
      "outputs": []
    }
  ]
}