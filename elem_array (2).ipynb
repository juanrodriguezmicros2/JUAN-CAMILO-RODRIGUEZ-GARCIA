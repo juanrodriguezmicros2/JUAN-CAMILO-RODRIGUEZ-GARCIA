{
  "nbformat": 4,
  "nbformat_minor": 0,
  "metadata": {
    "colab": {
      "provenance": [],
      "toc_visible": true
    },
    "kernelspec": {
      "name": "python3",
      "display_name": "Python 3"
    },
    "language_info": {
      "name": "python"
    }
  },
  "cells": [
    {
      "cell_type": "code",
      "execution_count": null,
      "metadata": {
        "colab": {
          "base_uri": "https://localhost:8080/"
        },
        "id": "jMgqkkp2whSM",
        "outputId": "878deff6-2675-4102-f848-3653380071a5"
      },
      "outputs": [
        {
          "output_type": "stream",
          "name": "stdout",
          "text": [
            "array('f', [1.0, 2.0, 3.0, 4.0, 5.0, 6.0, 7.0, 8.0, 9.0])\n",
            "3.0\n",
            "array('f', [7.0, 8.0, 9.0, 4.0, 5.0, 6.0, 1.0, 2.0, 3.0])\n",
            "array('f', [7.0, 8.0, 9.0, 8.0, 10.0, 12.0, 1.0, 2.0, 3.0])\n",
            "array('f', [7.0, 8.0, 9.0, 8.0, 10.0, 12.0, -6.0, -6.0, -6.0])\n"
          ]
        }
      ],
      "source": [
        "from array import array\n",
        "\n",
        "#1.REPRESENTAR UNA MATRIZ 3X3 COMO UN ARRAY DE 9 ELEMENTOS\n",
        "f=array('f',[1,2,3,4,5,6,7,8,9])\n",
        "print(f)\n",
        "\n",
        "#2.HACER LA FUNCION PARA OBTENER EL ELEMENTO i,j\n",
        "def elem(A, i, j):\n",
        "    if i < 0 or i >= 3 or j < 0 or j >= 3:\n",
        "        raise ValueError(\"fuera de rango\")\n",
        "    return A[i * 3 + j]\n",
        "\n",
        "print(elem(f, 0, 2))\n",
        "\n",
        "#3.HACER LSA OPERACIONES ELEMENTALES ENTRE MATRICES\n",
        "\n",
        "def intercambiar_renglones(A, i, j):\n",
        "    # Intercambia los valores de los elementos de los renglones i y j\n",
        "    for k in range(3):\n",
        "        A[i * 3 + k], A[j * 3 + k] = A[j * 3 + k], A[i * 3 + k]\n",
        "\n",
        "def multiplicar_renglon_por_escalar(A, i, escalar):\n",
        "    # Multiplica todos los elementos del renglón i por un escalar\n",
        "    for k in range(3):\n",
        "        A[i * 3 + k] *= escalar\n",
        "\n",
        "def sumar_multiplo_de_renglon(A, i, j, multiplicador):\n",
        "    # Suma al renglón j un múltiplo del renglón i\n",
        "    for k in range(3):\n",
        "        A[j * 3 + k] += multiplicador * A[i * 3 + k]\n",
        "\n",
        "intercambiar_renglones(f, 0, 2)\n",
        "print(f)\n",
        "#Intercambiamos\n",
        "\n",
        "multiplicar_renglon_por_escalar(f, 1, 2)\n",
        "print(f)\n",
        "\n",
        "sumar_multiplo_de_renglon(f, 0, 2, -1)\n",
        "print(f)\n"
      ]
    },
    {
      "cell_type": "code",
      "source": [
        "import sympy as sp # Se llama la librería `sympy` con el alias `sp`.\n",
        "\n",
        "# se define en la matriz `A`\n",
        "\n",
        "B = sp.Matrix([\n",
        "    [1,2,3],\n",
        "    [4,5,6],\n",
        "    [7,8,9]\n",
        "])\n",
        "#Ajustamos la referencia de la matriz\n",
        "\n",
        "\n",
        "B.row_swap(0,2)\n",
        "print(B)\n",
        "B[1,:]=2*B[1,:]\n",
        "print(B)\n",
        "B[2,:]=(B[0,:]*-1)+B[2,:]\n",
        "print(B)\n",
        "\n"
      ],
      "metadata": {
        "colab": {
          "base_uri": "https://localhost:8080/"
        },
        "id": "G_xZ3FP35esF",
        "outputId": "581ada1d-b17f-41e5-a586-b02d3e382b7c"
      },
      "execution_count": 4,
      "outputs": [
        {
          "output_type": "stream",
          "name": "stdout",
          "text": [
            "Matrix([[7, 8, 9], [4, 5, 6], [1, 2, 3]])\n",
            "Matrix([[7, 8, 9], [8, 10, 12], [1, 2, 3]])\n",
            "Matrix([[7, 8, 9], [8, 10, 12], [-6, -6, -6]])\n"
          ]
        }
      ]
    },
    {
      "cell_type": "code",
      "source": [],
      "metadata": {
        "id": "QdVPYZWcRbL5"
      },
      "execution_count": null,
      "outputs": []
    }
  ]
}